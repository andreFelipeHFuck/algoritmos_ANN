{
 "cells": [
  {
   "cell_type": "code",
   "execution_count": 8,
   "id": "21cb41ca",
   "metadata": {},
   "outputs": [],
   "source": [
    "import math"
   ]
  },
  {
   "cell_type": "code",
   "execution_count": 1,
   "id": "7ee1c282",
   "metadata": {},
   "outputs": [],
   "source": [
    "def lagrange(x: list, y: list) ->list:\n",
    "    \"\"\"\n",
    "    Retorna os yi's divididos pelo\n",
    "    denominador do polinômio da base \n",
    "    de lagrande Li\n",
    "\n",
    "    ci = yi / denom(Li)\n",
    "    \"\"\"\n",
    "\n",
    "    c_list = []\n",
    "    n = len(x)\n",
    "\n",
    "    for i in range(n):\n",
    "        ci = y[i] \n",
    "        denom = 1\n",
    "        for j in range(n):\n",
    "            if j != i:\n",
    "                denom *= (x[i] - x[j])\n",
    "        ci /= denom\n",
    "        c_list.append(ci)\n",
    "    return c_list\n"
   ]
  },
  {
   "cell_type": "code",
   "execution_count": 2,
   "id": "ee8cf009",
   "metadata": {},
   "outputs": [],
   "source": [
    "def build_func(x_coords, c_list):\n",
    "    n = len(x_coords)\n",
    "    def func(x):\n",
    "        for i in range(n):\n",
    "\n",
    "            numer: float = 1\n",
    "            for j in range(n):\n",
    "                if j != i:\n",
    "                    numer *= (x - x_coords[j])\n",
    "            soma += c_list[i] * numer\n",
    "        return soma \n",
    "    return func\n"
   ]
  },
  {
   "cell_type": "code",
   "execution_count": 10,
   "id": "1960ce54",
   "metadata": {},
   "outputs": [
    {
     "data": {
      "text/plain": [
       "[0.09802269647850428, -0.8469729555923191, 0.7583991860975206]"
      ]
     },
     "execution_count": 10,
     "metadata": {},
     "output_type": "execute_result"
    }
   ],
   "source": [
    "\n",
    "x = [1.888, 5.605, 6.735]\n",
    "def f(x):\n",
    "    return math.exp(math.cos(x)**2) + math.exp(-x**2) + math.log(x)\n",
    "\n",
    "y = [f(i) for i in x]\n",
    "\n",
    "c_list = lagrange(x, y)\n",
    "c_list"
   ]
  },
  {
   "cell_type": "code",
   "execution_count": 11,
   "id": "b5e4c3c5",
   "metadata": {},
   "outputs": [
    {
     "data": {
      "text/plain": [
       "[0.05712862930131336,\n",
       " -0.5061275092902627,\n",
       " 1.1194065240865532,\n",
       " -1.184787422176827,\n",
       " 0.9803064331829566,\n",
       " -0.48601562773409024,\n",
       " 0.019406247238513155]"
      ]
     },
     "execution_count": 11,
     "metadata": {},
     "output_type": "execute_result"
    }
   ],
   "source": [
    "\n",
    "x = [0.507, 1.266, 1.839, 2.547, 3.341, 3.71, 4.693]\n",
    "def f(x):\n",
    "    return  4 + math.sin(x) - x**2 / 30\n",
    "\n",
    "y = [f(i) for i in x]\n",
    "\n",
    "c_list = lagrange(x, y)\n",
    "c_list"
   ]
  },
  {
   "cell_type": "code",
   "execution_count": 12,
   "id": "e9d5c63a",
   "metadata": {},
   "outputs": [
    {
     "data": {
      "text/plain": [
       "[7.633683830954932e-06,\n",
       " -9.697848866951854e-05,\n",
       " 0.0019199638972512221,\n",
       " -0.0037532793305463685,\n",
       " 0.004035724986921836,\n",
       " -0.0053774245661000215,\n",
       " 0.007365150197704723,\n",
       " -0.005772001610135998,\n",
       " 0.004594261730356492,\n",
       " -0.003264334061090833,\n",
       " 0.0007362824471827266,\n",
       " -0.0004027363902954671,\n",
       " 9.57349380145281e-06]"
      ]
     },
     "execution_count": 12,
     "metadata": {},
     "output_type": "execute_result"
    }
   ],
   "source": [
    "x = [0.059, 0.7, 1.503, 1.766, 2.281, 2.905, 3.426, 3.843, 4.647, 4.929, 5.821, 6.04, 6.734]\n",
    "def f(x):\n",
    "    return math.exp(-x**2)+math.cos(x)+3\n",
    "\n",
    "y = [f(i) for i in x]\n",
    "\n",
    "c_list = lagrange(x, y)\n",
    "c_list"
   ]
  },
  {
   "cell_type": "code",
   "execution_count": null,
   "id": "15b51cad",
   "metadata": {},
   "outputs": [],
   "source": []
  }
 ],
 "metadata": {
  "kernelspec": {
   "display_name": "Python 3.10.4 64-bit",
   "language": "python",
   "name": "python3"
  },
  "language_info": {
   "codemirror_mode": {
    "name": "ipython",
    "version": 3
   },
   "file_extension": ".py",
   "mimetype": "text/x-python",
   "name": "python",
   "nbconvert_exporter": "python",
   "pygments_lexer": "ipython3",
   "version": "3.10.4"
  },
  "vscode": {
   "interpreter": {
    "hash": "916dbcbb3f70747c44a77c7bcd40155683ae19c65e1c03b4aa3499c5328201f1"
   }
  }
 },
 "nbformat": 4,
 "nbformat_minor": 5
}
