{
 "cells": [
  {
   "cell_type": "code",
   "execution_count": 22,
   "id": "69f12c4c",
   "metadata": {},
   "outputs": [],
   "source": [
    "from math import cos, sqrt, log"
   ]
  },
  {
   "cell_type": "code",
   "execution_count": 10,
   "id": "0dbf1bf1",
   "metadata": {},
   "outputs": [],
   "source": [
    "\n",
    "\n",
    "def dif_div(x, y):\n",
    "    Y = [yi for yi in y]\n",
    "    A = [y[0]]\n",
    "    n = len(x)\n",
    "\n",
    "    for i in range(n):\n",
    "        for j in range(n - i - 1):\n",
    "            numer = Y[j + 1] - Y[j]\n",
    "            demom = x[j + i + 1] - x[j]\n",
    "            y = numer / demom\n",
    "            Y[j] = y\n",
    "        A.append(Y[0])\n",
    "    return A"
   ]
  },
  {
   "cell_type": "code",
   "execution_count": 11,
   "id": "2988dcaa",
   "metadata": {},
   "outputs": [],
   "source": [
    "def build_func(coeffs):\n",
    "    n = len(coeffs)\n",
    "    def func(x):\n",
    "        soma = coeffs[0]\n",
    "        for i, ci in enumerate(coeffs[1:], 1):\n",
    "            prod = ci\n",
    "            for j in range(i):\n",
    "                soma *= (x - x[j])\n",
    "            soma += prod\n",
    "        return soma\n",
    "    return func"
   ]
  },
  {
   "cell_type": "code",
   "execution_count": 16,
   "id": "96f4aa2b",
   "metadata": {},
   "outputs": [
    {
     "data": {
      "text/plain": [
       "[0.08294883093991394,\n",
       " 0.5326356643817198,\n",
       " -0.7863568098463115,\n",
       " -0.7863568098463115]"
      ]
     },
     "execution_count": 16,
     "metadata": {},
     "output_type": "execute_result"
    }
   ],
   "source": [
    "x = [-0.665, 0.186, 0.892]\n",
    "\n",
    "def f(x):\n",
    "    return 1 / (1 + 25*x**2)\n",
    "\n",
    "y = [f(i) for i in x]\n",
    "\n",
    "coeffs = dif_div(x, y)\n",
    "\n",
    "coeffs"
   ]
  },
  {
   "cell_type": "code",
   "execution_count": 20,
   "id": "0f4cf649",
   "metadata": {},
   "outputs": [
    {
     "data": {
      "text/plain": [
       "[1.5608408817846242,\n",
       " -0.9856974989178007,\n",
       " 1.0955026858738524,\n",
       " -0.7147262309578236,\n",
       " 0.36681539427123927,\n",
       " -0.09482961017259718,\n",
       " 0.016532828704850892,\n",
       " 0.016532828704850892]"
      ]
     },
     "execution_count": 20,
     "metadata": {},
     "output_type": "execute_result"
    }
   ],
   "source": [
    "x = [-2.269, -1.775, 0.07, 1.156, 1.566, 3.198, 4.122]\n",
    "\n",
    "def f(x):\n",
    "    return (cos(x))**3 + 2*(cos(x))**2 + 1\n",
    "\n",
    "y = [f(i) for i in x]\n",
    "\n",
    "coeffs = dif_div(x, y)\n",
    "\n",
    "coeffs"
   ]
  },
  {
   "cell_type": "code",
   "execution_count": 23,
   "id": "ab7460d7",
   "metadata": {},
   "outputs": [
    {
     "data": {
      "text/plain": [
       "[-0.7813252050830034,\n",
       " -0.7141584506551721,\n",
       " 1.1932107966265557,\n",
       " -0.28152580304265845,\n",
       " 0.0015260454868199587,\n",
       " -0.013003958474497269,\n",
       " 0.012025933012360795,\n",
       " -0.004779545342333114,\n",
       " 0.00160000822504281,\n",
       " -0.0005344072597161121,\n",
       " 0.0001723359921261701,\n",
       " -5.180549561560442e-05,\n",
       " 1.4248139929817673e-05,\n",
       " -3.7187816807376678e-06,\n",
       " 9.085587464216738e-07,\n",
       " 9.085587464216738e-07]"
      ]
     },
     "execution_count": 23,
     "metadata": {},
     "output_type": "execute_result"
    }
   ],
   "source": [
    "x = [1.539, 1.798, 2.003, 2.194, 2.462, 2.789, 2.912, 3.105, 3.428, 3.673, 3.855, 4.081, 4.4, 4.611, 4.885]\n",
    "\n",
    "def f(x):\n",
    "    return cos(x + sqrt(log(x**2)))\n",
    "\n",
    "y = [f(i) for i in x]\n",
    "\n",
    "coeffs = dif_div(x, y)\n",
    "\n",
    "coeffs"
   ]
  },
  {
   "cell_type": "code",
   "execution_count": null,
   "id": "5721a0ab",
   "metadata": {},
   "outputs": [],
   "source": []
  }
 ],
 "metadata": {
  "kernelspec": {
   "display_name": "Python 3.10.4 64-bit",
   "language": "python",
   "name": "python3"
  },
  "language_info": {
   "codemirror_mode": {
    "name": "ipython",
    "version": 3
   },
   "file_extension": ".py",
   "mimetype": "text/x-python",
   "name": "python",
   "nbconvert_exporter": "python",
   "pygments_lexer": "ipython3",
   "version": "3.10.4"
  },
  "vscode": {
   "interpreter": {
    "hash": "916dbcbb3f70747c44a77c7bcd40155683ae19c65e1c03b4aa3499c5328201f1"
   }
  }
 },
 "nbformat": 4,
 "nbformat_minor": 5
}
