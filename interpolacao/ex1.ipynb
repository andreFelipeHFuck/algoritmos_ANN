{
 "cells": [
  {
   "cell_type": "code",
   "execution_count": 1,
   "id": "6d64b3bc",
   "metadata": {},
   "outputs": [
    {
     "ename": "ModuleNotFoundError",
     "evalue": "No module named 'numpy'",
     "output_type": "error",
     "traceback": [
      "\u001b[0;31m---------------------------------------------------------------------------\u001b[0m",
      "\u001b[0;31mModuleNotFoundError\u001b[0m                       Traceback (most recent call last)",
      "Cell \u001b[0;32mIn [1], line 1\u001b[0m\n\u001b[0;32m----> 1\u001b[0m \u001b[38;5;28;01mimport\u001b[39;00m \u001b[38;5;21;01mnumpy\u001b[39;00m \u001b[38;5;28;01mas\u001b[39;00m \u001b[38;5;21;01mnp\u001b[39;00m\n\u001b[1;32m      2\u001b[0m \u001b[38;5;28;01mfrom\u001b[39;00m \u001b[38;5;21;01mmath\u001b[39;00m \u001b[38;5;28;01mimport\u001b[39;00m sin, tan, cos, log, sqrt\n",
      "\u001b[0;31mModuleNotFoundError\u001b[0m: No module named 'numpy'"
     ]
    }
   ],
   "source": [
    "import numpy as np\n",
    "from math import sin, tan, cos, log, sqrt"
   ]
  },
  {
   "cell_type": "code",
   "execution_count": 122,
   "id": "68b65754",
   "metadata": {},
   "outputs": [],
   "source": [
    "def vandermonde(x: list, y: list):\n",
    "    A = []\n",
    "    B = y\n",
    "    n = len(x)\n",
    "    for xi in x:\n",
    "        row = [1] + [xi ** k for k in range(1, n)]\n",
    "        A.append(row)\n",
    "    coeffs = np.linalg.solve(A, B)\n",
    "    return coeffs"
   ]
  },
  {
   "cell_type": "code",
   "execution_count": 131,
   "id": "981c256e",
   "metadata": {},
   "outputs": [],
   "source": [
    "def build_poly(coeffs):\n",
    "    def func(x):\n",
    "        soma = coeffs[0]\n",
    "        for i, ci in enumerate(coeffs[1:], 1):\n",
    "            soma += ci * x ** i\n",
    "        return soma\n",
    "    return func"
   ]
  },
  {
   "cell_type": "code",
   "execution_count": 132,
   "id": "f3e2d2ac",
   "metadata": {},
   "outputs": [],
   "source": [
    "def modulo(x):\n",
    "    if x < 0:\n",
    "        return -x\n",
    "    else:\n",
    "        return x"
   ]
  },
  {
   "cell_type": "code",
   "execution_count": 138,
   "id": "f36235ac",
   "metadata": {},
   "outputs": [
    {
     "data": {
      "text/plain": [
       "[0.0029780332811155663, 0.01599186358896365]"
      ]
     },
     "execution_count": 138,
     "metadata": {},
     "output_type": "execute_result"
    }
   ],
   "source": [
    "x = [2.751, 3.697, 4.421]\n",
    "\n",
    "def f(x):\n",
    "    return sin(sqrt(1 + tan(x)))\n",
    "\n",
    "y = [f(i) for i in x]\n",
    "values = [2.969, 3.261]\n",
    "\n",
    "coeffs = vandermonde(x, y)\n",
    "\n",
    "p = build_poly(coeffs)\n",
    "\n",
    "[modulo(f(xi) - p(xi)) for xi in values]"
   ]
  },
  {
   "cell_type": "code",
   "execution_count": 140,
   "id": "59b5db19",
   "metadata": {},
   "outputs": [
    {
     "data": {
      "text/plain": [
       "[21.94020425837944, 3.9326475004539185, 0.8574045547057927]"
      ]
     },
     "execution_count": 140,
     "metadata": {},
     "output_type": "execute_result"
    }
   ],
   "source": [
    "x = [-2.581, -1.685, 0.486, 0.965, 2.656]\n",
    "\n",
    "def f(x):\n",
    "    return (sin(x))**3 -3*(sin(x))**2 + sin(x**2) + 4\n",
    "\n",
    "y = [f(i) for i in x]\n",
    "values = [-3.71, -2.991, 2.297]\n",
    "\n",
    "coeffs = vandermonde(x, y)\n",
    "\n",
    "p = build_poly(coeffs)\n",
    "\n",
    "[modulo(f(xi) - p(xi)) for xi in values]"
   ]
  },
  {
   "cell_type": "code",
   "execution_count": 141,
   "id": "2536dc6a",
   "metadata": {},
   "outputs": [
    {
     "data": {
      "text/plain": [
       "[0.2566831179409641,\n",
       " 0.25521346468201545,\n",
       " 0.10370506914120847,\n",
       " 0.06090465509043086,\n",
       " 0.02936091565231802]"
      ]
     },
     "execution_count": 141,
     "metadata": {},
     "output_type": "execute_result"
    }
   ],
   "source": [
    "x = [-2.421, -1.507, -0.754, 0.074, 0.621, 1.436, 2.59, 3.303, 4.056]\n",
    "\n",
    "def f(x):\n",
    "    return (cos(x)) ** 3 + 2*(cos(x))**2 + 1\n",
    "\n",
    "y = [f(i) for i in x]\n",
    "values = [-1.208, -1.193, -0.391, 1.074, 2.491]\n",
    "\n",
    "coeffs = vandermonde(x, y)\n",
    "\n",
    "p = build_poly(coeffs)\n",
    "\n",
    "[modulo(f(xi) - p(xi)) for xi in values]"
   ]
  },
  {
   "cell_type": "code",
   "execution_count": null,
   "id": "4d4c85b1",
   "metadata": {},
   "outputs": [],
   "source": []
  },
  {
   "cell_type": "code",
   "execution_count": null,
   "id": "16958bea",
   "metadata": {},
   "outputs": [],
   "source": []
  },
  {
   "cell_type": "code",
   "execution_count": null,
   "id": "ecb987ba",
   "metadata": {},
   "outputs": [],
   "source": []
  },
  {
   "cell_type": "code",
   "execution_count": null,
   "id": "9cd12905",
   "metadata": {},
   "outputs": [],
   "source": []
  }
 ],
 "metadata": {
  "kernelspec": {
   "display_name": "Python 3.10.4 64-bit",
   "language": "python",
   "name": "python3"
  },
  "language_info": {
   "codemirror_mode": {
    "name": "ipython",
    "version": 3
   },
   "file_extension": ".py",
   "mimetype": "text/x-python",
   "name": "python",
   "nbconvert_exporter": "python",
   "pygments_lexer": "ipython3",
   "version": "3.10.4"
  },
  "vscode": {
   "interpreter": {
    "hash": "916dbcbb3f70747c44a77c7bcd40155683ae19c65e1c03b4aa3499c5328201f1"
   }
  }
 },
 "nbformat": 4,
 "nbformat_minor": 5
}
