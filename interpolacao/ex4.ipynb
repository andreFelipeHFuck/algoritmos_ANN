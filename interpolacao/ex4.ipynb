{
 "cells": [
  {
   "cell_type": "code",
   "execution_count": 47,
   "id": "bcdba625",
   "metadata": {},
   "outputs": [],
   "source": [
    "from math import sqrt, cos, exp, log"
   ]
  },
  {
   "cell_type": "code",
   "execution_count": 100,
   "id": "e2b87199",
   "metadata": {},
   "outputs": [],
   "source": [
    "# Algoritmo de spline cubico\n",
    "\n",
    "import numpy as np\n",
    "\n",
    "def spline(x, y):\n",
    "    \"\"\"\n",
    "    Retorna todos coeficientes de todos o polinômios\n",
    "    ,ou seja, todos os ak, bk, ck, dk\n",
    "    \"\"\"\n",
    "    n = len(x)\n",
    "    a = {k: v for k, v in enumerate(y)}\n",
    "    h = {k: x[k+1] - x[k] for k in range(n - 1)}\n",
    "\n",
    "    A = [[1] + [0] * (n - 1)]\n",
    "    for i in range(1, n - 1):\n",
    "        row = [0] * n\n",
    "        row[i - 1] = h[i - 1]\n",
    "        row[i] = 2*(h[i -1] + h[i])\n",
    "        row[i+1] = h[i]\n",
    "        A.append(row)\n",
    "    A.append([0] * (n - 1) + [1])\n",
    "\n",
    "    B = [0]\n",
    "    for k in range(1, n - 1):\n",
    "        row = 3 * (a[k+1] - a[k]) / h[k] - 3 * (a[k] - a[k-1]) / h[k-1]\n",
    "        B.append(row)\n",
    "    B.append(0)\n",
    "    \n",
    "    c = dict(zip(range(n), np.linalg.solve(A, B)))\n",
    "\n",
    "    b = {}\n",
    "    d = {}\n",
    "\n",
    "    for k in range(n - 1):\n",
    "        b[k] = (1/h[k]) * (a[k + 1] -a[k]) - (h[k]/3) * (2*c[k]+c[k+1])\n",
    "        d[k] = (c[k+1] - c[k])/(3*h[k])\n",
    "    \n",
    "    s = {}\n",
    "    for k in range(n-1):\n",
    "        eq = f'{a[k]}{b[k]:+}*(x{-x[k]:+}){c[k]:+}*(x{-x[k]:+})**2{d[k]:+}*(x{-x[k]:+})**3'\n",
    "        s[k] = {'eq': eq, 'domain': [x[k], x[k+1]]}\n",
    "\n",
    "    return s\n",
    "\n"
   ]
  },
  {
   "cell_type": "code",
   "execution_count": 118,
   "id": "f1ab18b5",
   "metadata": {},
   "outputs": [
    {
     "name": "stdout",
     "output_type": "stream",
     "text": [
      "-0.5812371193412583, \n",
      "0.13098066386401724, \n"
     ]
    }
   ],
   "source": [
    "\n",
    "x = [1.692, 3.063, 3.506, 4.254]\n",
    "y = [-0.606, 0.14, 0.796, 1.77]\n",
    "valores = [1.835, 3.056]\n",
    "\n",
    "eqs = spline(x, y)\n",
    "\n",
    "for i in valores:\n",
    "    for key, value in eqs.items():\n",
    "        if i >= value['domain'][0] and i <= value['domain'][1]:\n",
    "            def p(x):\n",
    "                return eval(value['eq'])\n",
    "            print(f'{p(i)}, ')\n",
    "            break\n"
   ]
  },
  {
   "cell_type": "code",
   "execution_count": 120,
   "id": "1f122841",
   "metadata": {},
   "outputs": [
    {
     "name": "stdout",
     "output_type": "stream",
     "text": [
      "0.5914703120090208, \n",
      "0.5132392942559492, \n",
      "0.5279084792969667, \n"
     ]
    }
   ],
   "source": [
    "\n",
    "x = [0.501, 0.843, 1.067, 1.341, 1.888, 2.177, 2.474, 2.761]\n",
    "y = [1.047, 1.468, 1.322, 0.951, 1.166, 0.56, 0.667, 1.365]\n",
    "valores = [2.157, 2.218, 2.373]\n",
    "\n",
    "\n",
    "eqs = spline(x, y)\n",
    "\n",
    "for i in valores:\n",
    "    for key, value in eqs.items():\n",
    "        if i >= value['domain'][0] and i <= value['domain'][1]:\n",
    "            def p(x):\n",
    "                return eval(value['eq'])\n",
    "            print(f'{p(i)}, ')\n",
    "            break"
   ]
  },
  {
   "cell_type": "code",
   "execution_count": 121,
   "id": "20bd8fbc",
   "metadata": {},
   "outputs": [
    {
     "name": "stdout",
     "output_type": "stream",
     "text": [
      "4.670064997242453, \n",
      "3.179887150495884, \n",
      "3.97706142302421, \n",
      "3.9704078094442985, \n",
      "4.100039772850609, \n"
     ]
    }
   ],
   "source": [
    "x = [0.243, 0.841, 1.337, 2.193, 2.475, 3.078, 3.82, 4.433, 5.156, 5.643, 6.024, 6.548]\n",
    "y = [5.036, 4.701, 4.059, 2.682, 2.58, 2.151, 2.509, 3.669, 3.995, 4.724, 4.003, 4.89]\n",
    "valores = [0.875, 1.807, 6.058, 6.114, 6.243]\n",
    "\n",
    "eqs = spline(x, y)\n",
    "\n",
    "for i in valores:\n",
    "    for key, value in eqs.items():\n",
    "        if i >= value['domain'][0] and i <= value['domain'][1]:\n",
    "            def p(x):\n",
    "                return eval(value['eq'])\n",
    "            print(f'{p(i)}, ')\n",
    "            break"
   ]
  },
  {
   "cell_type": "code",
   "execution_count": 57,
   "id": "d142ec43",
   "metadata": {},
   "outputs": [
    {
     "data": {
      "text/plain": [
       "4.718159743359713"
      ]
     },
     "execution_count": 57,
     "metadata": {},
     "output_type": "execute_result"
    }
   ],
   "source": []
  },
  {
   "cell_type": "code",
   "execution_count": null,
   "id": "43501b69",
   "metadata": {},
   "outputs": [],
   "source": []
  },
  {
   "cell_type": "code",
   "execution_count": 59,
   "id": "666d60ba",
   "metadata": {},
   "outputs": [],
   "source": []
  },
  {
   "cell_type": "code",
   "execution_count": 60,
   "id": "819a8c97",
   "metadata": {},
   "outputs": [
    {
     "data": {
      "text/plain": [
       "-8.18976339014688"
      ]
     },
     "execution_count": 60,
     "metadata": {},
     "output_type": "execute_result"
    }
   ],
   "source": []
  },
  {
   "cell_type": "code",
   "execution_count": 61,
   "id": "99177bb1",
   "metadata": {},
   "outputs": [
    {
     "data": {
      "text/plain": [
       "-68.32226389982165"
      ]
     },
     "execution_count": 61,
     "metadata": {},
     "output_type": "execute_result"
    }
   ],
   "source": []
  },
  {
   "cell_type": "code",
   "execution_count": null,
   "id": "0f3627f1",
   "metadata": {},
   "outputs": [],
   "source": []
  },
  {
   "cell_type": "code",
   "execution_count": 63,
   "id": "30d3fac4",
   "metadata": {},
   "outputs": [
    {
     "name": "stdout",
     "output_type": "stream",
     "text": [
      "s[k] {'cooefs': [5.777, -1.4975767366720527, 0.0, 0.3472582040734488], 'domain': [0.109, 0.728]}\n",
      "s[k] {'cooefs': [4.85, -0.8513151779233152, 0.6448584849643945, -0.5945447944060919], 'domain': [0.728, 1.49]}\n",
      "s[k] {'cooefs': [4.023, -1.5212973728309078, -0.7142709150479315, 0.4054410546127717], 'domain': [1.49, 2.24]}\n",
      "s[k] {'cooefs': [2.829, -1.3464564613730805, 0.1979714578308052, 3.2807422439998186], 'domain': [2.24, 2.604]}\n",
      "s[k] {'cooefs': [2.405, 4.93983519056393, 3.780541988278606, -5.134319518278945], 'domain': [2.604, 3.09]}\n",
      "s[k] {'cooefs': [2.6, 3.8074923261798985, -3.7052958693720917, 4.7847209727426705], 'domain': [3.09, 3.603]}\n",
      "s[k] {'cooefs': [2.175, 2.484981984921519, 3.6583897076788823, -2.338790363444137], 'domain': [3.603, 4.244]}\n",
      "s[k] {'cooefs': [2.927, 1.0849234655106004, -0.8391041612241906, 0.31157294119283246], 'domain': [4.244, 4.984]}\n",
      "s[k] {'cooefs': [3.775, 0.5993001142092245, -0.14741223177610227, -0.17462705971157605], 'domain': [4.984, 5.77]}\n",
      "s[k] {'cooefs': [4.28, 0.06303230014390843, -0.5591828385759984, 0.2729248757307296], 'domain': [5.77, 6.324]}\n",
      "s[k] {'cooefs': [4.327, -0.08726415094339597, -0.10558169511152563, 0.08300447728893516], 'domain': [6.324, 6.748]}\n"
     ]
    }
   ],
   "source": []
  },
  {
   "cell_type": "code",
   "execution_count": 64,
   "id": "710cf587",
   "metadata": {},
   "outputs": [],
   "source": []
  },
  {
   "cell_type": "code",
   "execution_count": 65,
   "id": "4913549a",
   "metadata": {},
   "outputs": [
    {
     "data": {
      "text/plain": [
       "1.3526731643220509"
      ]
     },
     "execution_count": 65,
     "metadata": {},
     "output_type": "execute_result"
    }
   ],
   "source": []
  },
  {
   "cell_type": "code",
   "execution_count": 66,
   "id": "1cff9f15",
   "metadata": {},
   "outputs": [
    {
     "data": {
      "text/plain": [
       "1.3801031412562685"
      ]
     },
     "execution_count": 66,
     "metadata": {},
     "output_type": "execute_result"
    }
   ],
   "source": []
  },
  {
   "cell_type": "code",
   "execution_count": 67,
   "id": "82034476",
   "metadata": {},
   "outputs": [
    {
     "data": {
      "text/plain": [
       "185.55081315846036"
      ]
     },
     "execution_count": 67,
     "metadata": {},
     "output_type": "execute_result"
    }
   ],
   "source": []
  },
  {
   "cell_type": "code",
   "execution_count": 68,
   "id": "769fe5d3",
   "metadata": {},
   "outputs": [
    {
     "data": {
      "text/plain": [
       "22.294135963225227"
      ]
     },
     "execution_count": 68,
     "metadata": {},
     "output_type": "execute_result"
    }
   ],
   "source": []
  },
  {
   "cell_type": "code",
   "execution_count": 69,
   "id": "6ee20dd9",
   "metadata": {},
   "outputs": [
    {
     "data": {
      "text/plain": [
       "24.210325402382892"
      ]
     },
     "execution_count": 69,
     "metadata": {},
     "output_type": "execute_result"
    }
   ],
   "source": [
    "f2(6.725)"
   ]
  },
  {
   "cell_type": "code",
   "execution_count": null,
   "id": "96536289",
   "metadata": {},
   "outputs": [],
   "source": []
  }
 ],
 "metadata": {
  "kernelspec": {
   "display_name": "Python 3.10.4 64-bit",
   "language": "python",
   "name": "python3"
  },
  "language_info": {
   "codemirror_mode": {
    "name": "ipython",
    "version": 3
   },
   "file_extension": ".py",
   "mimetype": "text/x-python",
   "name": "python",
   "nbconvert_exporter": "python",
   "pygments_lexer": "ipython3",
   "version": "3.10.4"
  },
  "vscode": {
   "interpreter": {
    "hash": "916dbcbb3f70747c44a77c7bcd40155683ae19c65e1c03b4aa3499c5328201f1"
   }
  }
 },
 "nbformat": 4,
 "nbformat_minor": 5
}
