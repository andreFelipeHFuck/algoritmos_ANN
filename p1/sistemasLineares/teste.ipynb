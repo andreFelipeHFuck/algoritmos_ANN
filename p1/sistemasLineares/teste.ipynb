{
 "cells": [
  {
   "cell_type": "code",
   "execution_count": 42,
   "id": "f76d1678",
   "metadata": {},
   "outputs": [
    {
     "name": "stdout",
     "output_type": "stream",
     "text": [
      "[[ 0.4         0.28571429 -0.77777778]\n",
      " [-0.88888889  0.4        -0.85714286]\n",
      " [-0.71428571  0.33333333  1.125     ]]\n"
     ]
    }
   ],
   "source": [
    "import numpy as np\n",
    "\n",
    "def trocaLinha(E, l1, l2): # l1 <-> l2\n",
    "    aux = np.copy(E[l2,:])  \n",
    "    E[l2,:] = np.copy(E[l1,:])  \n",
    "    E[l1,:] = np.copy(aux)  \n",
    "    return E\n",
    "\n",
    "E = np.array([[0.4, 0.2857142857142857, -0.7777777777777778], \n",
    "              [-0.8888888888888888, 0.4, -0.8571428571428571],\n",
    "              [-0.7142857142857143, 0.3333333333333333, 1.125]], dtype='double')  \n",
    "print(E)  \n",
    "\n",
    "\n"
   ]
  },
  {
   "cell_type": "code",
   "execution_count": 43,
   "id": "16106188",
   "metadata": {},
   "outputs": [
    {
     "data": {
      "text/plain": [
       "array([[-0.88888889,  0.4       , -0.85714286],\n",
       "       [ 0.4       ,  0.28571429, -0.77777778],\n",
       "       [-0.71428571,  0.33333333,  1.125     ]])"
      ]
     },
     "execution_count": 43,
     "metadata": {},
     "output_type": "execute_result"
    }
   ],
   "source": [
    "E = trocaLinha(E, 0, 1)\n",
    "E"
   ]
  },
  {
   "cell_type": "code",
   "execution_count": 44,
   "id": "23497b69",
   "metadata": {},
   "outputs": [
    {
     "data": {
      "text/plain": [
       "array([[-0.88888889,  0.4       , -0.85714286],\n",
       "       [-0.6       ,  0.75238095,  0.79722222],\n",
       "       [-0.71428571,  0.33333333,  1.125     ]])"
      ]
     },
     "execution_count": 44,
     "metadata": {},
     "output_type": "execute_result"
    }
   ],
   "source": [
    "E[1, :] = (7/5.0) * E[2, :] + E[1, :]\n",
    "E"
   ]
  },
  {
   "cell_type": "code",
   "execution_count": 45,
   "id": "ec078951",
   "metadata": {},
   "outputs": [
    {
     "data": {
      "text/plain": [
       "array([[-0.88888889,  0.4       , -0.85714286],\n",
       "       [-0.6       ,  0.75238095,  0.79722222],\n",
       "       [ 0.44642857, -0.20833333, -0.703125  ]])"
      ]
     },
     "execution_count": 45,
     "metadata": {},
     "output_type": "execute_result"
    }
   ],
   "source": [
    "E[2, :] *= (-5/ 8.0)\n",
    "E"
   ]
  },
  {
   "cell_type": "code",
   "execution_count": 46,
   "id": "77de7fe0",
   "metadata": {},
   "outputs": [
    {
     "data": {
      "text/plain": [
       "array([[-0.88888889,  0.4       , -0.85714286],\n",
       "       [ 0.44642857, -0.20833333, -0.703125  ],\n",
       "       [-0.6       ,  0.75238095,  0.79722222]])"
      ]
     },
     "execution_count": 46,
     "metadata": {},
     "output_type": "execute_result"
    }
   ],
   "source": [
    "E = trocaLinha(E, 1, 2)\n",
    "E"
   ]
  },
  {
   "cell_type": "code",
   "execution_count": 54,
   "id": "be237c58",
   "metadata": {},
   "outputs": [
    {
     "data": {
      "text/plain": [
       "array([[-0.88888889,  0.4       , -0.85714286],\n",
       "       [ 0.44642857, -0.20833333, -0.703125  ],\n",
       "       [-0.6       ,  0.75238095,  0.79722222]])"
      ]
     },
     "execution_count": 54,
     "metadata": {},
     "output_type": "execute_result"
    }
   ],
   "source": [
    "E.view()"
   ]
  },
  {
   "cell_type": "code",
   "execution_count": null,
   "id": "e7180ad0",
   "metadata": {},
   "outputs": [],
   "source": []
  }
 ],
 "metadata": {
  "kernelspec": {
   "display_name": "Python 3 (ipykernel)",
   "language": "python",
   "name": "python3"
  },
  "language_info": {
   "codemirror_mode": {
    "name": "ipython",
    "version": 3
   },
   "file_extension": ".py",
   "mimetype": "text/x-python",
   "name": "python",
   "nbconvert_exporter": "python",
   "pygments_lexer": "ipython3",
   "version": "3.9.7"
  }
 },
 "nbformat": 4,
 "nbformat_minor": 5
}
